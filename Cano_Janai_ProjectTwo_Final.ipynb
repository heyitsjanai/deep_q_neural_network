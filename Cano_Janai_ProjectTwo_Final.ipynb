{
 "cells": [
  {
   "cell_type": "markdown",
   "metadata": {},
   "source": [
    "# Treasure Hunt Game Notebook\n",
    "\n",
    "## Read and Review Your Starter Code\n",
    "The theme of this project is a popular treasure hunt game in which the player needs to find the treasure before the pirate does. While you will not be developing the entire game, you will write the part of the game that represents the intelligent agent, which is a pirate in this case. The pirate will try to find the optimal path to the treasure using deep Q-learning. \n",
    "\n",
    "You have been provided with two Python classes and this notebook to help you with this assignment. The first class, TreasureMaze.py, represents the environment, which includes a maze object defined as a matrix. The second class, GameExperience.py, stores the episodes – that is, all the states that come in between the initial state and the terminal state. This is later used by the agent for learning by experience, called \"exploration\". This notebook shows how to play a game. Your task is to complete the deep Q-learning implementation for which a skeleton implementation has been provided. The code blocks you will need to complete has #TODO as a header.\n",
    "\n",
    "First, read and review the next few code and instruction blocks to understand the code that you have been given."
   ]
  },
  {
   "cell_type": "code",
   "execution_count": 48,
   "metadata": {},
   "outputs": [],
   "source": [
    "from __future__ import print_function\n",
    "import os, sys, time, datetime, json, random\n",
    "import numpy as np\n",
    "from keras.models import Sequential\n",
    "from keras.layers.core import Dense, Activation\n",
    "from keras.optimizers import SGD , Adam, RMSprop\n",
    "from keras.layers.advanced_activations import PReLU\n",
    "import matplotlib.pyplot as plt\n",
    "from TreasureMaze import TreasureMaze\n",
    "from GameExperience import GameExperience\n",
    "%matplotlib inline"
   ]
  },
  {
   "cell_type": "markdown",
   "metadata": {},
   "source": [
    "The following code block contains an 8x8 matrix that will be used as a maze object:"
   ]
  },
  {
   "cell_type": "code",
   "execution_count": 49,
   "metadata": {},
   "outputs": [],
   "source": [
    "maze = np.array([\n",
    "    [ 1.,  0.,  1.,  1.,  1.,  1.,  1.,  1.],\n",
    "    [ 1.,  0.,  1.,  1.,  1.,  0.,  1.,  1.],\n",
    "    [ 1.,  1.,  1.,  1.,  0.,  1.,  0.,  1.],\n",
    "    [ 1.,  1.,  1.,  0.,  1.,  1.,  1.,  1.],\n",
    "    [ 1.,  1.,  0.,  1.,  1.,  1.,  1.,  1.],\n",
    "    [ 1.,  1.,  1.,  0.,  1.,  0.,  0.,  0.],\n",
    "    [ 1.,  1.,  1.,  0.,  1.,  1.,  1.,  1.],\n",
    "    [ 1.,  1.,  1.,  1.,  0.,  1.,  1.,  1.]\n",
    "])"
   ]
  },
  {
   "cell_type": "markdown",
   "metadata": {},
   "source": [
    "This helper function allows a visual representation of the maze object:"
   ]
  },
  {
   "cell_type": "code",
   "execution_count": 50,
   "metadata": {},
   "outputs": [],
   "source": [
    "def show(qmaze):\n",
    "    plt.grid('on')\n",
    "    nrows, ncols = qmaze.maze.shape\n",
    "    ax = plt.gca()\n",
    "    ax.set_xticks(np.arange(0.5, nrows, 1))\n",
    "    ax.set_yticks(np.arange(0.5, ncols, 1))\n",
    "    ax.set_xticklabels([])\n",
    "    ax.set_yticklabels([])\n",
    "    canvas = np.copy(qmaze.maze)\n",
    "    for row,col in qmaze.visited:\n",
    "        canvas[row,col] = 0.6\n",
    "    pirate_row, pirate_col, _ = qmaze.state\n",
    "    canvas[pirate_row, pirate_col] = 0.3   # pirate cell\n",
    "    canvas[nrows-1, ncols-1] = 0.9 # treasure cell\n",
    "    img = plt.imshow(canvas, interpolation='none', cmap='gray')\n",
    "    return img"
   ]
  },
  {
   "cell_type": "markdown",
   "metadata": {},
   "source": [
    "The pirate agent can move in four directions: left, right, up, and down. \n",
    "\n",
    "While the agent primarily learns by experience through exploitation, often, the agent can choose to explore the environment to find previously undiscovered paths. This is called \"exploration\" and is defined by epsilon. This value is typically a lower value such as 0.1, which means for every ten attempts, the agent will attempt to learn by experience nine times and will randomly explore a new path one time. You are encouraged to try various values for the exploration factor and see how the algorithm performs."
   ]
  },
  {
   "cell_type": "code",
   "execution_count": 51,
   "metadata": {},
   "outputs": [],
   "source": [
    "LEFT = 0\n",
    "UP = 1\n",
    "RIGHT = 2\n",
    "DOWN = 3\n",
    "\n",
    "\n",
    "# Exploration factor\n",
    "epsilon = 0.1\n",
    "\n",
    "# Actions dictionary\n",
    "actions_dict = {\n",
    "    LEFT: 'left',\n",
    "    UP: 'up',\n",
    "    RIGHT: 'right',\n",
    "    DOWN: 'down',\n",
    "}\n",
    "\n",
    "num_actions = len(actions_dict)\n"
   ]
  },
  {
   "cell_type": "markdown",
   "metadata": {},
   "source": [
    "The sample code block and output below show creating a maze object and performing one action (DOWN), which returns the reward. The resulting updated environment is visualized."
   ]
  },
  {
   "cell_type": "code",
   "execution_count": 52,
   "metadata": {},
   "outputs": [
    {
     "name": "stdout",
     "output_type": "stream",
     "text": [
      "reward= -0.04\n"
     ]
    },
    {
     "data": {
      "text/plain": [
       "<matplotlib.image.AxesImage at 0x21043078a48>"
      ]
     },
     "execution_count": 52,
     "metadata": {},
     "output_type": "execute_result"
    },
    {
     "data": {
      "image/png": "[encoded data removed]",
      "text/plain": [
       "<Figure size 432x288 with 1 Axes>"
      ]
     },
     "metadata": {
      "needs_background": "light"
     },
     "output_type": "display_data"
    }
   ],
   "source": [
    "qmaze = TreasureMaze(maze)\n",
    "canvas, reward, game_over = qmaze.act(DOWN)\n",
    "print(\"reward=\", reward)\n",
    "show(qmaze)"
   ]
  },
  {
   "cell_type": "markdown",
   "metadata": {},
   "source": [
    "This function simulates a full game based on the provided trained model. The other parameters include the TreasureMaze object and the starting position of the pirate."
   ]
  },
  {
   "cell_type": "code",
   "execution_count": 53,
   "metadata": {},
   "outputs": [],
   "source": [
    "def play_game(model, qmaze, pirate_cell):\n",
    "    qmaze.reset(pirate_cell)\n",
    "    envstate = qmaze.observe()\n",
    "    while True:\n",
    "        prev_envstate = envstate\n",
    "        # get next action\n",
    "        q = model.predict(prev_envstate)\n",
    "        action = np.argmax(q[0])\n",
    "\n",
    "        # apply action, get rewards and new state\n",
    "        envstate, reward, game_status = qmaze.act(action)\n",
    "        if game_status == 'win':\n",
    "            return True\n",
    "        elif game_status == 'lose':\n",
    "            return False"
   ]
  },
  {
   "cell_type": "markdown",
   "metadata": {},
   "source": [
    "This function helps you to determine whether the pirate can win any game at all. If your maze is not well designed, the pirate may not win any game at all. In this case, your training would not yield any result. The provided maze in this notebook ensures that there is a path to win and you can run this method to check."
   ]
  },
  {
   "cell_type": "code",
   "execution_count": 54,
   "metadata": {},
   "outputs": [],
   "source": [
    "def completion_check(model, qmaze):\n",
    "    for cell in qmaze.free_cells:\n",
    "        if not qmaze.valid_actions(cell):\n",
    "            return False\n",
    "        if not play_game(model, qmaze, cell):\n",
    "            return False\n",
    "    return True"
   ]
  },
  {
   "cell_type": "markdown",
   "metadata": {},
   "source": [
    "The code you have been given in this block will build the neural network model. Review the code and note the number of layers, as well as the activation, optimizer, and loss functions that are used to train the model."
   ]
  },
  {
   "cell_type": "code",
   "execution_count": 55,
   "metadata": {},
   "outputs": [],
   "source": [
    "def build_model(maze):\n",
    "    model = Sequential()\n",
    "    model.add(Dense(maze.size, input_shape=(maze.size,)))\n",
    "    model.add(PReLU())\n",
    "    model.add(Dense(maze.size))\n",
    "    model.add(PReLU())\n",
    "    model.add(Dense(num_actions))\n",
    "    model.compile(optimizer='adam', loss='mse')\n",
    "    return model"
   ]
  },
  {
   "cell_type": "markdown",
   "metadata": {},
   "source": [
    "# #TODO: Complete the Q-Training Algorithm Code Block\n",
    "\n",
    "This is your deep Q-learning implementation. The goal of your deep Q-learning implementation is to find the best possible navigation sequence that results in reaching the treasure cell while maximizing the reward. In your implementation, you need to determine the optimal number of epochs to achieve a 100% win rate.\n",
    "\n",
    "You will need to complete the section starting with #pseudocode. The pseudocode has been included for you."
   ]
  },
  {
   "cell_type": "code",
   "execution_count": 56,
   "metadata": {},
   "outputs": [],
   "source": [
    "# function that implements deep Q-learning algorithm\n",
    "def qtrain(model, maze, **opt):\n",
    "    global epsilon\n",
    "    n_epoch = opt.get('n_epoch', 15000)\n",
    "    max_memory = opt.get('max_memory', 1000)\n",
    "    data_size = opt.get('data_size', 50)\n",
    "    start_time = datetime.datetime.now()\n",
    "    # Setting up the environment and game memory\n",
    "    qmaze = TreasureMaze(maze)\n",
    "    experience = GameExperience(model, max_memory=max_memory)\n",
    "    \n",
    "    # Initializing variables to zero\n",
    "    win_history = []\n",
    "    hsize = qmaze.maze.size // 2\n",
    "    win_rate = 0.0\n",
    "    pirate_start = (0, 0)   # starts at the top left corner of the maze\n",
    "\n",
    "    for epoch in range(n_epoch):\n",
    "        loss = 0.0\n",
    "        # Initialize the environment and get the initial state\n",
    "        qmaze.reset(pirate_start)\n",
    "        envstate = qmaze.observe()\n",
    "\n",
    "        # Number of episodes for this epoch\n",
    "        n_episodes = 0\n",
    "\n",
    "        while True:\n",
    "            # Choose an action using epsilon-greedy strategy\n",
    "            if np.random.rand() < epsilon:\n",
    "                # Explore environment randomly\n",
    "                action = np.random.randint(0, num_actions)\n",
    "            else:\n",
    "                # Exploit previous action rewards, state\n",
    "                q = model.predict(envstate)\n",
    "                action = np.argmax(q[0])\n",
    "\n",
    "            # Take the chosen action, get rewards and new state\n",
    "            envstate_next, reward, game_status = qmaze.act(action)\n",
    "\n",
    "            # Store the episode in memory\n",
    "            episode = experience.remember([envstate, action, reward, envstate_next, game_status])\n",
    "\n",
    "            # Retrieve random samples from memory to train the model\n",
    "            inputs, targets = experience.get_data(data_size)\n",
    "\n",
    "            # Train the model on the batch\n",
    "            h = model.fit(inputs, targets, epochs=8, batch_size=16, verbose=0)\n",
    "            loss = model.evaluate(inputs, targets, verbose=0)\n",
    "\n",
    "            # Update the current state\n",
    "            envstate = envstate_next\n",
    "\n",
    "            # Check if the game is over (either win or lose)\n",
    "            if game_status == 'win' or game_status == 'lose':\n",
    "                break\n",
    "\n",
    "            # Increment the episode count\n",
    "            n_episodes += 1\n",
    "\n",
    "        # Update epsilon (exploration factor)\n",
    "        epsilon = max(0.1, epsilon * 0.995)\n",
    "\n",
    "        # Record the win history\n",
    "        win_history.append(game_status == 'win')\n",
    "\n",
    "        # Calculate and print epoch statistics\n",
    "        win_rate = sum(win_history[-hsize:]) / min(hsize, len(win_history))\n",
    "        dt = datetime.datetime.now() - start_time\n",
    "        t = format_time(dt.total_seconds())\n",
    "        template = \"Epoch: {:03d}/{:d} | Loss: {:.4f} | Episodes: {:d} | Win count: {:d} | Win rate: {:.3f} | time: {}\"\n",
    "        print(template.format(epoch, n_epoch-1, loss, n_episodes, sum(win_history), win_rate, t))\n",
    "\n",
    "        # Check for completion\n",
    "        if win_rate == 1.0:\n",
    "            print(\"Reached 100%% win rate at epoch: %d\" % (epoch,))\n",
    "            break  \n",
    "    \n",
    "# This is a small utility for printing readable time strings:\n",
    "def format_time(seconds):\n",
    "    if seconds < 400:\n",
    "        s = float(seconds)\n",
    "        return \"%.1f seconds\" % (s,)\n",
    "    elif seconds < 4000:\n",
    "        m = seconds / 60.0\n",
    "        return \"%.2f minutes\" % (m,)\n",
    "    else:\n",
    "        h = seconds / 3600.0\n",
    "        return \"%.2f hours\" % (h,)\n"
   ]
  },
  {
   "cell_type": "markdown",
   "metadata": {},
   "source": [
    "## Test Your Model\n",
    "\n",
    "Now we will start testing the deep Q-learning implementation. To begin, select **Cell**, then **Run All** from the menu bar. This will run your notebook. As it runs, you should see output begin to appear beneath the next few cells. The code below creates an instance of TreasureMaze."
   ]
  },
  {
   "cell_type": "code",
   "execution_count": 57,
   "metadata": {},
   "outputs": [
    {
     "data": {
      "text/plain": [
       "<matplotlib.image.AxesImage at 0x2103c06e7c8>"
      ]
     },
     "execution_count": 57,
     "metadata": {},
     "output_type": "execute_result"
    },
    {
     "data": {
      "image/png": "[encoded data removed]",
      "text/plain": [
       "<Figure size 432x288 with 1 Axes>"
      ]
     },
     "metadata": {
      "needs_background": "light"
     },
     "output_type": "display_data"
    }
   ],
   "source": [
    "qmaze = TreasureMaze(maze)\n",
    "show(qmaze)"
   ]
  },
  {
   "cell_type": "markdown",
   "metadata": {},
   "source": [
    "In the next code block, you will build your model and train it using deep Q-learning. Note: This step takes several minutes to fully run."
   ]
  },
  {
   "cell_type": "code",
   "execution_count": 58,
   "metadata": {},
   "outputs": [
    {
     "name": "stdout",
     "output_type": "stream",
     "text": [
      "Epoch: 000/999 | Loss: 0.0000 | Episodes: 136 | Win count: 0 | Win rate: 0.000 | time: 18.3 seconds\n",
      "Epoch: 001/999 | Loss: 0.0001 | Episodes: 136 | Win count: 0 | Win rate: 0.000 | time: 35.7 seconds\n",
      "Epoch: 002/999 | Loss: 0.0000 | Episodes: 136 | Win count: 0 | Win rate: 0.000 | time: 55.2 seconds\n",
      "Epoch: 003/999 | Loss: 0.0002 | Episodes: 139 | Win count: 0 | Win rate: 0.000 | time: 75.4 seconds\n",
      "Epoch: 004/999 | Loss: 0.0000 | Episodes: 142 | Win count: 0 | Win rate: 0.000 | time: 96.3 seconds\n",
      "Epoch: 005/999 | Loss: 0.0008 | Episodes: 149 | Win count: 0 | Win rate: 0.000 | time: 116.9 seconds\n",
      "Epoch: 006/999 | Loss: 0.0006 | Episodes: 142 | Win count: 0 | Win rate: 0.000 | time: 138.2 seconds\n",
      "Epoch: 007/999 | Loss: 0.0004 | Episodes: 141 | Win count: 0 | Win rate: 0.000 | time: 158.2 seconds\n",
      "Epoch: 008/999 | Loss: 0.0004 | Episodes: 142 | Win count: 0 | Win rate: 0.000 | time: 177.8 seconds\n",
      "Epoch: 009/999 | Loss: 0.0005 | Episodes: 144 | Win count: 0 | Win rate: 0.000 | time: 197.6 seconds\n",
      "Epoch: 010/999 | Loss: 0.0001 | Episodes: 145 | Win count: 0 | Win rate: 0.000 | time: 217.3 seconds\n",
      "Epoch: 011/999 | Loss: 0.0005 | Episodes: 145 | Win count: 0 | Win rate: 0.000 | time: 237.5 seconds\n",
      "Epoch: 012/999 | Loss: 0.0013 | Episodes: 60 | Win count: 1 | Win rate: 0.077 | time: 245.2 seconds\n",
      "Epoch: 013/999 | Loss: 0.0006 | Episodes: 133 | Win count: 2 | Win rate: 0.143 | time: 264.5 seconds\n",
      "Epoch: 014/999 | Loss: 0.0006 | Episodes: 31 | Win count: 3 | Win rate: 0.200 | time: 268.7 seconds\n",
      "Epoch: 015/999 | Loss: 0.0002 | Episodes: 26 | Win count: 4 | Win rate: 0.250 | time: 272.2 seconds\n",
      "Epoch: 016/999 | Loss: 0.0010 | Episodes: 124 | Win count: 5 | Win rate: 0.294 | time: 288.9 seconds\n",
      "Epoch: 017/999 | Loss: 0.0011 | Episodes: 95 | Win count: 6 | Win rate: 0.333 | time: 303.1 seconds\n",
      "Epoch: 018/999 | Loss: 0.0008 | Episodes: 28 | Win count: 7 | Win rate: 0.368 | time: 307.0 seconds\n",
      "Epoch: 019/999 | Loss: 0.0009 | Episodes: 28 | Win count: 8 | Win rate: 0.400 | time: 311.2 seconds\n",
      "Epoch: 020/999 | Loss: 0.0006 | Episodes: 28 | Win count: 9 | Win rate: 0.429 | time: 315.0 seconds\n",
      "Epoch: 021/999 | Loss: 0.0009 | Episodes: 24 | Win count: 10 | Win rate: 0.455 | time: 317.7 seconds\n",
      "Epoch: 022/999 | Loss: 0.0004 | Episodes: 29 | Win count: 11 | Win rate: 0.478 | time: 321.6 seconds\n",
      "Epoch: 023/999 | Loss: 0.0009 | Episodes: 25 | Win count: 12 | Win rate: 0.500 | time: 324.8 seconds\n",
      "Epoch: 024/999 | Loss: 0.0004 | Episodes: 26 | Win count: 13 | Win rate: 0.520 | time: 328.4 seconds\n",
      "Epoch: 025/999 | Loss: 0.0008 | Episodes: 26 | Win count: 14 | Win rate: 0.538 | time: 331.5 seconds\n",
      "Epoch: 026/999 | Loss: 0.0005 | Episodes: 26 | Win count: 15 | Win rate: 0.556 | time: 334.6 seconds\n",
      "Epoch: 027/999 | Loss: 0.0003 | Episodes: 43 | Win count: 16 | Win rate: 0.571 | time: 341.3 seconds\n",
      "Epoch: 028/999 | Loss: 0.0001 | Episodes: 25 | Win count: 17 | Win rate: 0.586 | time: 345.3 seconds\n",
      "Epoch: 029/999 | Loss: 0.0001 | Episodes: 31 | Win count: 18 | Win rate: 0.600 | time: 349.7 seconds\n",
      "Epoch: 030/999 | Loss: 0.0006 | Episodes: 26 | Win count: 19 | Win rate: 0.613 | time: 353.3 seconds\n",
      "Epoch: 031/999 | Loss: 0.0007 | Episodes: 24 | Win count: 20 | Win rate: 0.625 | time: 356.8 seconds\n",
      "Epoch: 032/999 | Loss: 0.0000 | Episodes: 26 | Win count: 21 | Win rate: 0.656 | time: 360.0 seconds\n",
      "Epoch: 033/999 | Loss: 0.0003 | Episodes: 25 | Win count: 22 | Win rate: 0.688 | time: 363.7 seconds\n",
      "Epoch: 034/999 | Loss: 0.0001 | Episodes: 23 | Win count: 23 | Win rate: 0.719 | time: 366.9 seconds\n",
      "Epoch: 035/999 | Loss: 0.0001 | Episodes: 25 | Win count: 24 | Win rate: 0.750 | time: 370.3 seconds\n",
      "Epoch: 036/999 | Loss: 0.0004 | Episodes: 31 | Win count: 25 | Win rate: 0.781 | time: 375.3 seconds\n",
      "Epoch: 037/999 | Loss: 0.0007 | Episodes: 23 | Win count: 26 | Win rate: 0.812 | time: 378.6 seconds\n",
      "Epoch: 038/999 | Loss: 0.0007 | Episodes: 38 | Win count: 27 | Win rate: 0.844 | time: 384.4 seconds\n",
      "Epoch: 039/999 | Loss: 0.0002 | Episodes: 25 | Win count: 28 | Win rate: 0.875 | time: 387.9 seconds\n",
      "Epoch: 040/999 | Loss: 0.0001 | Episodes: 28 | Win count: 29 | Win rate: 0.906 | time: 392.3 seconds\n",
      "Epoch: 041/999 | Loss: 0.0001 | Episodes: 26 | Win count: 30 | Win rate: 0.938 | time: 395.7 seconds\n",
      "Epoch: 042/999 | Loss: 0.0006 | Episodes: 31 | Win count: 31 | Win rate: 0.969 | time: 6.67 minutes\n",
      "Epoch: 043/999 | Loss: 0.0001 | Episodes: 24 | Win count: 32 | Win rate: 1.000 | time: 6.73 minutes\n",
      "Reached 100% win rate at epoch: 43\n"
     ]
    }
   ],
   "source": [
    "model = build_model(maze)\n",
    "qtrain(model, maze, n_epoch=1000, max_memory=8*maze.size, data_size=32)"
   ]
  },
  {
   "cell_type": "markdown",
   "metadata": {},
   "source": [
    "This cell will check to see if the model passes the completion check. Note: This could take several minutes."
   ]
  },
  {
   "cell_type": "code",
   "execution_count": 59,
   "metadata": {},
   "outputs": [
    {
     "data": {
      "text/plain": [
       "<matplotlib.image.AxesImage at 0x2103c3ec088>"
      ]
     },
     "execution_count": 59,
     "metadata": {},
     "output_type": "execute_result"
    },
    {
     "data": {
      "image/png": "[encoded data removed]",
      "text/plain": [
       "<Figure size 432x288 with 1 Axes>"
      ]
     },
     "metadata": {
      "needs_background": "light"
     },
     "output_type": "display_data"
    }
   ],
   "source": [
    "completion_check(model, qmaze)\n",
    "show(qmaze)"
   ]
  },
  {
   "cell_type": "markdown",
   "metadata": {},
   "source": [
    "This cell will test your model for one game. It will start the pirate at the top-left corner and run play_game. The agent should find a path from the starting position to the target (treasure). The treasure is located in the bottom-right corner."
   ]
  },
  {
   "cell_type": "code",
   "execution_count": 60,
   "metadata": {},
   "outputs": [
    {
     "data": {
      "text/plain": [
       "<matplotlib.image.AxesImage at 0x2104544be88>"
      ]
     },
     "execution_count": 60,
     "metadata": {},
     "output_type": "execute_result"
    },
    {
     "data": {
      "image/png": "[encoded data removed]",
      "text/plain": [
       "<Figure size 432x288 with 1 Axes>"
      ]
     },
     "metadata": {
      "needs_background": "light"
     },
     "output_type": "display_data"
    }
   ],
   "source": [
    "pirate_start = (0, 0)\n",
    "play_game(model, qmaze, pirate_start)\n",
    "show(qmaze)"
   ]
  },
  {
   "cell_type": "markdown",
   "metadata": {},
   "source": [
    "## Save and Submit Your Work\n",
    "After you have finished creating the code for your notebook, save your work. Make sure that your notebook contains your name in the filename (e.g. Doe_Jane_ProjectTwo.ipynb). This will help your instructor access and grade your work easily. Download a copy of your IPYNB file and submit it to Brightspace. Refer to the Jupyter Notebook in Apporto Tutorial if you need help with these tasks."
   ]
  }
 ],
 "metadata": {
  "kernelspec": {
   "display_name": "Python 3 (ipykernel)",
   "language": "python",
   "name": "python3"
  },
  "language_info": {
   "codemirror_mode": {
    "name": "ipython",
    "version": 3
   },
   "file_extension": ".py",
   "mimetype": "text/x-python",
   "name": "python",
   "nbconvert_exporter": "python",
   "pygments_lexer": "ipython3",
   "version": "3.11.4"
  }
 },
 "nbformat": 4,
 "nbformat_minor": 2
}
